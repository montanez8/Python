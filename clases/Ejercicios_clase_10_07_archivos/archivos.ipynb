{
 "cells": [
  {
   "cell_type": "code",
   "execution_count": 1,
   "metadata": {},
   "outputs": [
    {
     "name": "stdout",
     "output_type": "stream",
     "text": [
      "prueba\n",
      "\n",
      "\n"
     ]
    }
   ],
   "source": [
    "import io\n",
    "fd = open(\"archivo.txt\",\"r\" , encoding=\"utf-8\")\n",
    "# leer = fd.read()\n",
    "# leer2 = fd.readlines()\n",
    "fd.seek(51)\n",
    "\n",
    "leer2 = fd.readline(6)\n",
    "leer3 = fd.readline()\n",
    "fd.close()\n",
    "print(leer2)\n",
    "print(leer3)\n"
   ]
  },
  {
   "cell_type": "code",
   "execution_count": 1,
   "metadata": {},
   "outputs": [
    {
     "name": "stdout",
     "output_type": "stream",
     "text": [
      "['el proximo lunes 17 de julio', 'es un gran dia', 'dia de prueba', 'estare listo', 'superare las espectativas', 'ganare el incentivo', ':D']\n"
     ]
    }
   ],
   "source": [
    "import io\n",
    "\n",
    "# with open(\"archivo.txt\" , \"r\") as archivo:\n",
    "#     l = archivo.readlines()\n",
    "#     # print(l)\n",
    "    \n",
    "# for ar in l:\n",
    "#     print(ar.replace(\"\\n\", \" \"))\n",
    "\n",
    "\n",
    "with open(\"archivo.txt\", \"r\") as archivo:\n",
    "    contenido = archivo.read()\n",
    "    lineas = contenido.split(\"\\n\")\n",
    "    print(lineas)\n",
    "    \n",
    "    \n",
    "    \n"
   ]
  },
  {
   "cell_type": "markdown",
   "metadata": {},
   "source": [
    "Metodo W sobreescribe el contenido del archivo"
   ]
  },
  {
   "cell_type": "code",
   "execution_count": 6,
   "metadata": {},
   "outputs": [],
   "source": [
    "import io\n",
    "# el metodo w sobrescribe el contenido del archivo\n",
    "with open(\"archivo.txt\",\"w\") as archivo:\n",
    "    archivo.write(\"Siiii 🎉 \")"
   ]
  },
  {
   "cell_type": "markdown",
   "metadata": {},
   "source": [
    "Metodo a agrega el nuevo contenido al final del documento"
   ]
  },
  {
   "cell_type": "code",
   "execution_count": 7,
   "metadata": {},
   "outputs": [],
   "source": [
    "import io\n",
    "# el metodo w sobrescribe el contenido del archivo\n",
    "with open(\"archivo.txt\",\"a\") as archivo:\n",
    "    archivo.write(\"\\nSiiii 🎉 \")"
   ]
  }
 ],
 "metadata": {
  "kernelspec": {
   "display_name": "Python 3",
   "language": "python",
   "name": "python3"
  },
  "language_info": {
   "codemirror_mode": {
    "name": "ipython",
    "version": 3
   },
   "file_extension": ".py",
   "mimetype": "text/x-python",
   "name": "python",
   "nbconvert_exporter": "python",
   "pygments_lexer": "ipython3",
   "version": "3.11.3"
  },
  "orig_nbformat": 4
 },
 "nbformat": 4,
 "nbformat_minor": 2
}
