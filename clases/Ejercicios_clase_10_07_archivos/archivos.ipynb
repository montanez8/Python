{
 "cells": [
  {
   "cell_type": "code",
   "execution_count": 1,
   "metadata": {},
   "outputs": [
    {
     "name": "stdout",
     "output_type": "stream",
     "text": [
      "prueba\n",
      "\n",
      "\n"
     ]
    }
   ],
   "source": [
    "import io\n",
    "fd = open(\"archivo.txt\",\"r\" , encoding=\"utf-8\")\n",
    "# leer = fd.read()\n",
    "# leer2 = fd.readlines()\n",
    "fd.seek(51)\n",
    "\n",
    "leer2 = fd.readline(6)\n",
    "leer3 = fd.readline()\n",
    "fd.close()\n",
    "print(leer2)\n",
    "print(leer3)\n"
   ]
  },
  {
   "cell_type": "code",
   "execution_count": 1,
   "metadata": {},
   "outputs": [
    {
     "name": "stdout",
     "output_type": "stream",
     "text": [
      "['el proximo lunes 17 de julio', 'es un gran dia', 'dia de prueba', 'estare listo', 'superare las espectativas', 'ganare el incentivo', ':D']\n"
     ]
    }
   ],
   "source": [
    "import io\n",
    "\n",
    "# with open(\"archivo.txt\" , \"r\") as archivo:\n",
    "#     l = archivo.readlines()\n",
    "#     # print(l)\n",
    "    \n",
    "# for ar in l:\n",
    "#     print(ar.replace(\"\\n\", \" \"))\n",
    "\n",
    "\n",
    "with open(\"archivo.txt\", \"r\") as archivo:\n",
    "    contenido = archivo.read()\n",
    "    lineas = contenido.split(\"\\n\")\n",
    "    print(lineas)\n",
    "    \n",
    "    \n",
    "    \n"
   ]
  },
  {
   "cell_type": "markdown",
   "metadata": {},
   "source": [
    "Metodo W sobreescribe el contenido del archivo"
   ]
  },
  {
   "cell_type": "code",
   "execution_count": 6,
   "metadata": {},
   "outputs": [],
   "source": [
    "import io\n",
    "# el metodo w sobrescribe el contenido del archivo\n",
    "with open(\"archivo.txt\",\"w\") as archivo:\n",
    "    archivo.write(\"Siiii 🎉 \")"
   ]
  },
  {
   "cell_type": "markdown",
   "metadata": {},
   "source": [
    "Metodo a agrega el nuevo contenido al final del documento"
   ]
  },
  {
   "cell_type": "code",
   "execution_count": 7,
   "metadata": {},
   "outputs": [],
   "source": [
    "import io\n",
    "# el metodo w sobrescribe el contenido del archivo\n",
    "with open(\"archivo.txt\",\"a\") as archivo:\n",
    "    archivo.write(\"\\nSiiii 🎉 \")"
   ]
  },
  {
   "cell_type": "code",
   "execution_count": null,
   "metadata": {},
   "outputs": [],
   "source": [
    "import json\n",
    "\n",
    "lista = [10, 20, 30, 40, 50, 60]\n",
    "with open(\"Python/clases/Ejercicios_clase_10_07_archivos/influencer.json\", \"w\")as archivo:\n",
    "    json.dump(lista, archivo)\n",
    "\n",
    "if not archivo.closed:\n",
    "    print(\"Cerrando archivo\")\n",
    "    archivo.close()"
   ]
  },
  {
   "cell_type": "code",
   "execution_count": null,
   "metadata": {},
   "outputs": [],
   "source": [
    "import json\n",
    "\n",
    "dic = {1: \"lapiz\" , 2:\"Borrador\" , 3:\"Cuaderno\" ,4: \"Lapicero\" , \"Valor\":2500}\n",
    "dic2 = {\n",
    "    \"infliencers\":[\n",
    "        {\n",
    "        \"name\":\"Jaxon\",\n",
    "        \"age\":42,\n",
    "        \"word at\":\"Tech news\"\n",
    "        },\n",
    "        {\n",
    "        \"name\":\"Miller\",\n",
    "        \"age\":35,\n",
    "        \"word at\":\"IT Day\"\n",
    "        }\n",
    "    ]\n",
    "    \n",
    "}\n",
    "with open(\"Python/clases/Ejercicios_clase_10_07_archivos/diccioanrio.json\", \"w\")as archivo:\n",
    "    json.dump(dic, archivo)\n",
    "    json.dump(dic2 , archivo)\n",
    "\n",
    "if not archivo.closed:\n",
    "    print(\"Cerrando archivo\")\n",
    "    archivo.close()"
   ]
  },
  {
   "cell_type": "code",
   "execution_count": null,
   "metadata": {},
   "outputs": [],
   "source": [
    "import json \n",
    "\n",
    "with open(\"Python/clases/Ejercicios_clase_10_07_archivos/diccioanrio.json\",\"r\") as ar:\n",
    "    lista = json.load(ar)\n",
    "    \n",
    "if not ar.closed:\n",
    "    ar.closed()\n",
    "    \n",
    "print(\"Diccionario\" , dic)\n",
    "print(f\"Diccionario {dic[\"influencers\"][1][\"name\"]}\")"
   ]
  }
 ],
 "metadata": {
  "kernelspec": {
   "display_name": "Python 3",
   "language": "python",
   "name": "python3"
  },
  "language_info": {
   "codemirror_mode": {
    "name": "ipython",
    "version": 3
   },
   "file_extension": ".py",
   "mimetype": "text/x-python",
   "name": "python",
   "nbconvert_exporter": "python",
   "pygments_lexer": "ipython3",
   "version": "3.10.6"
  },
  "orig_nbformat": 4
 },
 "nbformat": 4,
 "nbformat_minor": 2
}
