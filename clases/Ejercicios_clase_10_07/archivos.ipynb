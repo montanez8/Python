{
 "cells": [
  {
   "attachments": {},
   "cell_type": "markdown",
   "metadata": {},
   "source": [
    "\n",
    "\n"
   ]
  },
  {
   "cell_type": "code",
   "execution_count": 5,
   "metadata": {},
   "outputs": [
    {
     "name": "stdout",
     "output_type": "stream",
     "text": [
      "prueba\n",
      "\n",
      "\n"
     ]
    }
   ],
   "source": [
    "import io\n",
    "fd = open(\"archivo.txt\",\"r\" , encoding=\"utf-8\")\n",
    "# leer = fd.read()\n",
    "# leer2 = fd.readlines()\n",
    "fd.seek(51)\n",
    "\n",
    "leer2 = fd.readline(6)\n",
    "leer3 = fd.readline()\n",
    "fd.close()\n",
    "print(leer2)\n",
    "print(leer3)\n"
   ]
  }
 ],
 "metadata": {
  "kernelspec": {
   "display_name": "Python 3",
   "language": "python",
   "name": "python3"
  },
  "language_info": {
   "codemirror_mode": {
    "name": "ipython",
    "version": 3
   },
   "file_extension": ".py",
   "mimetype": "text/x-python",
   "name": "python",
   "nbconvert_exporter": "python",
   "pygments_lexer": "ipython3",
   "version": "3.11.3"
  },
  "orig_nbformat": 4
 },
 "nbformat": 4,
 "nbformat_minor": 2
}
