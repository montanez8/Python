{
 "cells": [
  {
   "attachments": {},
   "cell_type": "markdown",
   "metadata": {},
   "source": [
    "- Escribe un programa que muestre por consola (con un print) los\n",
    "- números de 1 a 100 (ambos incluidos y con un salto de línea entre\n",
    "- cada impresión), sustituyendo los siguientes:\n",
    "- - Múltiplos de 3 por la palabra \"fizz\".\n",
    "- - Múltiplos de 5 por la palabra \"buzz\".\n",
    "- - Múltiplos de 3 y de 5 a la vez por la palabra \"fizzbuzz\".\n"
   ]
  },
  {
   "cell_type": "code",
   "execution_count": null,
   "metadata": {},
   "outputs": [],
   "source": [
    "for i in range(1, 101):\n",
    "    print(i)\n",
    "    if i % 3 and i % 5:\n",
    "        print(\"FizzBuzz\")\n",
    "    elif i % 3:\n",
    "        print(\"Fizz\")\n",
    "    elif i % 5:\n",
    "        print(\"Buzz\")"
   ]
  }
 ],
 "metadata": {
  "kernelspec": {
   "display_name": "Python 3",
   "language": "python",
   "name": "python3"
  },
  "language_info": {
   "codemirror_mode": {
    "name": "ipython",
    "version": 3
   },
   "file_extension": ".py",
   "mimetype": "text/x-python",
   "name": "python",
   "nbconvert_exporter": "python",
   "pygments_lexer": "ipython3",
   "version": "3.11.3"
  },
  "orig_nbformat": 4
 },
 "nbformat": 4,
 "nbformat_minor": 2
}
