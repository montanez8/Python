{
 "cells": [
  {
   "attachments": {},
   "cell_type": "markdown",
   "metadata": {},
   "source": [
    "**Definir una función max() que tome como argumento dos números y devuelva el mayor de ellos. (Es cierto que python tiene una función max() incorporada, pero hacerla nosotros mismos es un muy buen ejercicio.**"
   ]
  },
  {
   "cell_type": "code",
   "execution_count": 12,
   "metadata": {},
   "outputs": [
    {
     "name": "stdout",
     "output_type": "stream",
     "text": [
      "El mayor de los numeros es: 5\n"
     ]
    }
   ],
   "source": [
    "def max(num1 , num2):\n",
    "    if num1 > nu2:\n",
    "        return num1\n",
    "    return num2\n",
    "num1 = int(input(\"Digite el primer numero: \"))\n",
    "num2 = int(input(\"Digite el segundo numero: \"))\n",
    "print(f\"El mayor de los numeros es: {max(num1 , num2)}\")"
   ]
  },
  {
   "attachments": {},
   "cell_type": "markdown",
   "metadata": {},
   "source": [
    "**Escribir una función que tome un carácter y devuelva True si es una vocal, de lo contrario devuelve False.**"
   ]
  },
  {
   "cell_type": "code",
   "execution_count": 16,
   "metadata": {},
   "outputs": [
    {
     "name": "stdout",
     "output_type": "stream",
     "text": [
      "Caracter es una vocal\n"
     ]
    }
   ],
   "source": [
    "def is_vocal(char):\n",
    "    if char in [\"a\",\"e\",\"i\",\"o\",\"u\"]:\n",
    "        return True\n",
    "    return False\n",
    "\n",
    "char = input(\"Digite un caracter: \").lower()\n",
    "if is_vocal(char) == True:\n",
    "    print(\"Caracter es una vocal\")\n",
    "else:\n",
    "    print(\"Caracter No es una vocal\")"
   ]
  }
 ],
 "metadata": {
  "kernelspec": {
   "display_name": "Python 3",
   "language": "python",
   "name": "python3"
  },
  "language_info": {
   "codemirror_mode": {
    "name": "ipython",
    "version": 3
   },
   "file_extension": ".py",
   "mimetype": "text/x-python",
   "name": "python",
   "nbconvert_exporter": "python",
   "pygments_lexer": "ipython3",
   "version": "3.11.3"
  },
  "orig_nbformat": 4
 },
 "nbformat": 4,
 "nbformat_minor": 2
}
