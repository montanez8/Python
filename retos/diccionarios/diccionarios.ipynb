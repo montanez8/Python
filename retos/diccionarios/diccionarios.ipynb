{
 "cells": [
  {
   "cell_type": "markdown",
   "metadata": {
    "vscode": {
     "languageId": "bat"
    }
   },
   "source": [
    "Escribir un programa que guarde en una variable el diccionario {'Euro':'€', 'Dollar':'$', 'Yen':'¥'}, pregunte al usuario \n",
    "por una divisa y muestre su símbolo o un mensaje de aviso si la divisa no está en el diccionario."
   ]
  },
  {
   "cell_type": "code",
   "execution_count": null,
   "metadata": {},
   "outputs": [
    {
     "name": "stdout",
     "output_type": "stream",
     "text": [
      "Divisa no encontrasda. \n"
     ]
    }
   ],
   "source": [
    "divisas = {\"Euro\":\"€\",\"Dollar\":\"$\",\"Yen\":\"¥\",\"Rupia\":\"₹\",\"Real\":\"R$\"}\n",
    "\n",
    "divisa = input(\"Buscar divisa .Digite la divisa\").capitalize()\n",
    "if divisa not in divisas:\n",
    "    print(\"Divisa no encontrasda. \")\n",
    "else:\n",
    "    print(f\"El simbolo del {divisa} es:\",divisas[divisa]) \n"
   ]
  },
  {
   "cell_type": "markdown",
   "metadata": {},
   "source": [
    "Escribir un programa que pregunte al usuario su nombre, edad, dirección y teléfono y lo guarde en un diccionario. Después debe mostrar por pantalla el mensaje <nombre> tiene <edad> años, vive en <dirección> y su número de teléfono es <teléfono>."
   ]
  },
  {
   "cell_type": "code",
   "execution_count": null,
   "metadata": {},
   "outputs": [
    {
     "name": "stdout",
     "output_type": "stream",
     "text": [
      "carlos tiene 22 años y vive en bucaramanga calle 3 cr 12 y su numero de telefono es 6546534\n"
     ]
    }
   ],
   "source": [
    "persona = {}\n",
    "\n",
    "nombre = input(\"Ingrese su nombre: \")\n",
    "edad = int(input(\"Ingrese su edad: \"))\n",
    "direccion = input(\"Ingrese su direccion: \")\n",
    "telefono = input(\"Ingrese su telefono: \")\n",
    "\n",
    "persona={\"nombre\":nombre,\"edad\":edad,\"direccion\":direccion,\"telefono\":telefono}\n",
    "print(f\"{persona['nombre']} tiene {persona['edad']} años y vive en {persona['direccion']} y su numero de telefono es {persona['telefono']}\")\n"
   ]
  },
  {
   "cell_type": "markdown",
   "metadata": {},
   "source": [
    "Escribir un programa que guarde en un diccionario los precios de las frutas de la tabla, pregunte al usuario por una fruta, un número de kilos y muestre por pantalla el precio de ese número de kilos de fruta. Si la fruta no está en el diccionario debe mostrar un mensaje informando de ello.\n",
    "\n",
    "Fruta\tPrecio\n",
    "Plátano\t1.35\n",
    "Manzana\t0.80\n",
    "Pera\t0.85\n",
    "Naranja\t0.70"
   ]
  },
  {
   "cell_type": "code",
   "execution_count": null,
   "metadata": {},
   "outputs": [
    {
     "name": "stdout",
     "output_type": "stream",
     "text": [
      "Total a pagar por 5 kilogramos de pera es 4.25$\n"
     ]
    }
   ],
   "source": [
    "frutas = {\"platano\":1.35 ,\"manzana\": 0.80 ,\"pera\":0.85,\"naranja\":0.70}\n",
    "\n",
    "p = input(\"Ingrese la fruta a comprar: \").lower()\n",
    "cant= int(input(f\"Cantidad de {p} a comprar: \"))\n",
    "\n",
    "if p not in frutas:\n",
    "    print(\"Producto no disponible. \")\n",
    "else:\n",
    "    print(f\"Total a pagar por {cant} kilogramos de {p} es {frutas[p] * cant}$\")"
   ]
  },
  {
   "cell_type": "markdown",
   "metadata": {},
   "source": [
    "Escribir un programa que pregunte una fecha en formato dd/mm/aaaa y muestre por pantalla la misma fecha en formato dd de <mes> de aaaa donde <mes> es el nombre del mes."
   ]
  },
  {
   "cell_type": "code",
   "execution_count": null,
   "metadata": {},
   "outputs": [
    {
     "name": "stdout",
     "output_type": "stream",
     "text": [
      "La fecha ingresa es: 12/febrero/1998\n"
     ]
    }
   ],
   "source": [
    "meses = {\n",
    "    1: \"enero\",\n",
    "    2: \"febrero\",\n",
    "    3: \"marzo\",\n",
    "    4: \"abril\",\n",
    "    5: \"mayo\",\n",
    "    6: \"junio\",\n",
    "    7: \"julio\",\n",
    "    8: \"agosto\",\n",
    "    9: \"septiembre\",\n",
    "    10: \"octubre\",\n",
    "    11: \"noviembre\",\n",
    "    12: \"diciembre\"\n",
    "}\n",
    "\n",
    "dia = int(input(\"ingrese el dia: \"))\n",
    "mes = int(input(\"Ingrese el mes: \"))\n",
    "año = int(input(\"Ingrese el año: \"))\n",
    "\n",
    "print(f\"La fecha ingresa es: {dia}/{meses[mes]}/{año}\")"
   ]
  },
  {
   "cell_type": "code",
   "execution_count": null,
   "metadata": {},
   "outputs": [
    {
     "name": "stdout",
     "output_type": "stream",
     "text": [
      "['12', '4', '1998']\n",
      "12 de abril de 1998\n"
     ]
    }
   ],
   "source": [
    "meses = {1:'enero', 2:'febrero', 3:'marzo', 4:'abril', 5:'mayo', 6:'junio', 7:'julio', 8:'agosto', 9:'septiembre', 10:'octubre', 11:'noviembre', 12:'diciembre'}\n",
    "fecha = input('Introduce una fecha en formato dd/mm/aaaa: ')\n",
    "fecha = fecha.split('/')\n",
    "print(fecha)\n",
    "print(fecha[0], 'de', meses[int(fecha[1])], 'de', fecha[2])"
   ]
  },
  {
   "cell_type": "markdown",
   "metadata": {},
   "source": [
    "Escribir un programa que cree un diccionario vacío y lo vaya llenado con información sobre una persona (por ejemplo nombre, edad, sexo, teléfono, correo electrónico, etc.) que se le pida al usuario. Cada vez que se añada un nuevo dato debe imprimirse el contenido del diccionario.\n",
    "."
   ]
  },
  {
   "cell_type": "code",
   "execution_count": null,
   "metadata": {},
   "outputs": [
    {
     "name": "stdout",
     "output_type": "stream",
     "text": [
      "{'nombre': 'carlos'}\n",
      "{'nombre': 'carlos', 'edad': 22}\n",
      "{'nombre': 'carlos', 'edad': 22, 'sexo': 'm'}\n",
      "{'nombre': 'carlos', 'edad': 22, 'sexo': 'm', 'telefono': 453434}\n",
      "{'nombre': 'carlos', 'edad': 22, 'sexo': 'm', 'telefono': 453434, 'email': 'carlos@gmail.com'}\n"
     ]
    }
   ],
   "source": [
    "persona = {}\n",
    "nombre = input(\"Ingrese su nombre: \")\n",
    "edad = int(input(\"Ingrese su edad: \"))\n",
    "sexo = input(\"Ingrese su sexo: m = masculino f = Femenino \").lower()\n",
    "telefono = int(input(\"Ingrese su telefono: \"))\n",
    "email = input(\"Ingrese su email: \")\n",
    "\n",
    "persona[\"nombre\"] = nombre\n",
    "print(persona)\n",
    "persona[\"edad\"] = edad\n",
    "print(persona)\n",
    "persona[\"sexo\"] = sexo\n",
    "print(persona)\n",
    "persona[\"telefono\"] = telefono\n",
    "print(persona)\n",
    "persona[\"email\"] = email\n",
    "print(persona)"
   ]
  },
  {
   "cell_type": "code",
   "execution_count": null,
   "metadata": {},
   "outputs": [],
   "source": []
  }
 ],
 "metadata": {
  "kernelspec": {
   "display_name": "Python 3",
   "language": "python",
   "name": "python3"
  },
  "language_info": {
   "codemirror_mode": {
    "name": "ipython",
    "version": 3
   },
   "file_extension": ".py",
   "mimetype": "text/x-python",
   "name": "python",
   "nbconvert_exporter": "python",
   "pygments_lexer": "ipython3",
   "version": "3.11.3"
  },
  "orig_nbformat": 4
 },
 "nbformat": 4,
 "nbformat_minor": 2
}
